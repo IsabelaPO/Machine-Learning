{
 "cells": [
  {
   "cell_type": "code",
   "execution_count": 21,
   "id": "539755ed-cd03-4a73-8a7c-5cad5c17e575",
   "metadata": {},
   "outputs": [
    {
     "data": {
      "image/png": "[encoded data removed]",
      "text/plain": [
       "<Figure size 640x480 with 1 Axes>"
      ]
     },
     "metadata": {},
     "output_type": "display_data"
    }
   ],
   "source": [
    "#1\n",
    "import numpy as np\n",
    "import pandas as pd\n",
    "from sklearn.model_selection import train_test_split\n",
    "from sklearn.neural_network import MLPRegressor\n",
    "import matplotlib.pyplot as plt\n",
    "import warnings\n",
    "from sklearn.exceptions import ConvergenceWarning\n",
    "\n",
    "data = pd.read_csv(\"winequality-red.csv\", delimiter=\";\")\n",
    "X = data.drop(\"quality\", axis=1)\n",
    "y = data[\"quality\"]\n",
    "\n",
    "warnings.filterwarnings(\"ignore\", category=ConvergenceWarning)\n",
    "\n",
    "random_seeds = range(1, 11)\n",
    "\n",
    "residuals = []\n",
    "\n",
    "for random_seed in random_seeds:\n",
    "    X_train, X_test, y_train, y_test = train_test_split(X, y, test_size=0.2, random_state=0)\n",
    "\n",
    "    mlp = MLPRegressor(hidden_layer_sizes=(10, 10), activation='relu', early_stopping=True, random_state=random_seed)\n",
    "    mlp.fit(X_train, y_train)\n",
    "\n",
    "    y_pred = mlp.predict(X_test)\n",
    "\n",
    "    residual = np.abs(y_pred - y_test)\n",
    "    residuals.extend(residual)\n",
    "\n",
    "plt.hist(residuals, bins=30, edgecolor='k')\n",
    "plt.title(\"Distribution of Residuals\")\n",
    "plt.xlabel(\"Residual (Absolute Value)\")\n",
    "plt.ylabel(\"Frequency\")\n",
    "plt.show()\n"
   ]
  },
  {
   "cell_type": "code",
   "execution_count": 8,
   "id": "900965d0-3e98-4763-b40e-bee1d808954d",
   "metadata": {},
   "outputs": [
    {
     "name": "stdout",
     "output_type": "stream",
     "text": [
      "Average MAE (Unrouded and Unbounded Predictions): 0.49759676677876385\n",
      "Average MAE (Rounded & Bounded Predictions): 0.415625\n"
     ]
    }
   ],
   "source": [
    "#2\n",
    "\n",
    "mae = []\n",
    "mae_rounded = []\n",
    "\n",
    "for random_state in random_seeds:\n",
    "\n",
    "    mae.append(np.mean(np.abs(y_test - y_pred)))\n",
    "\n",
    "    y_pred_rounded = np.round(y_pred).clip(min=3, max=8)\n",
    "\n",
    "    mae_rounded.append(np.mean(np.abs(y_test - y_pred_rounded)))\n",
    "\n",
    "avg_mae_original = np.mean(mae)\n",
    "avg_mae_rounded_bounded = np.mean(mae_rounded)\n",
    "\n",
    "print(f\"Average MAE (Unrouded and Unbounded Predictions): {avg_mae_original}\")\n",
    "print(f\"Average MAE (Rounded & Bounded Predictions): {avg_mae_rounded_bounded}\")\n",
    "\n",
    "    "
   ]
  },
  {
   "cell_type": "code",
   "execution_count": 20,
   "id": "f73f7fd5-1bde-4b23-b290-b1669b173dce",
   "metadata": {},
   "outputs": [
    {
     "name": "stdout",
     "output_type": "stream",
     "text": [
      "Number of Iterations: 20, Average RMSE: 1.4039789509925442\n",
      "Number of Iterations: 50, Average RMSE: 0.7996073631460566\n",
      "Number of Iterations: 100, Average RMSE: 0.6940361469112144\n",
      "Number of Iterations: 200, Average RMSE: 0.6554543932216474\n"
     ]
    }
   ],
   "source": [
    "#3\n",
    "import pandas as pd\n",
    "from sklearn.model_selection import train_test_split\n",
    "from sklearn.neural_network import MLPRegressor\n",
    "from sklearn.metrics import mean_squared_error\n",
    "import numpy as np\n",
    "import warnings\n",
    "from math import sqrt\n",
    "\n",
    "\n",
    "iterations = [20, 50, 100, 200]\n",
    "num_runs = 10\n",
    "rmse_scores = []\n",
    "\n",
    "for num_iterations in iterations:\n",
    "    mse_scores = []\n",
    "    for random_state in range(1, num_runs + 1):\n",
    "        mlp = MLPRegressor(hidden_layer_sizes=(10, 10),max_iter=num_iterations, activation='relu', random_state=random_state)\n",
    "\n",
    "        mlp.fit(X_train, y_train)\n",
    "\n",
    "        y_pred = mlp.predict(X_test)\n",
    "        mse = sqrt(mean_squared_error(y_test, y_pred))\n",
    "        mse_scores.append(mse)\n",
    "\n",
    "    avg_rmse = np.mean(mse_scores)\n",
    "    rmse_scores.append(avg_rmse)\n",
    "\n",
    "for i, num_iterations in enumerate(iterations):\n",
    "    print(f\"Number of Iterations: {num_iterations}, Average RMSE: {rmse_scores[i]}\")\n"
   ]
  },
  {
   "cell_type": "markdown",
   "id": "0f133d01-10fb-4b07-a680-56eb7c398927",
   "metadata": {},
   "source": [
    "4. \r\n",
    "No estado inicial do modelo, o número de iterações é 20, com um RMSE médio de 0,6922. Com um número limitado de iterações, o modelo não teve oportunidades suficientes para aprender os padrões subjacentes nos dados, levando a um RMSE relativamente mais elevado.\r\n",
    "\r\n",
    "Quando o número de iterações é 50, ficamos com um RMSE médio de 0,6539. Com mais iterações, o modelo tem mais chances de ajustar seus parâmetros e ajustar os dados de treino. Consequentemente, o RMSE diminui, indicando uma melhoria na precisão preditiva do modelo.\r\n",
    "\r\n",
    "Agora, o número de iterações é 100 com RMSE médio de 0,6476. Isto mostra que aumentar ainda mais o número de iterações continua a melhorar o desempenho do modelo. O RMSE diminui ligeiramente, sugerindo que o modelo ainda está a aprender suas representações.\r\n",
    "\r\n",
    "Finalmente para um número de iterações de 200, temos um RMSE médio de 0,6403. Com 200 iterações, o modelo atinge o RMSE médio mais baixo neste experimento. Isto implica que o modelo beneficia de um treino prolongado, refinando as suas representações e previsões internas, o que resulta de uma precisão maior.\r\n",
    "\r\n",
    "Os resultados obtidos mostram uma tendência de diminuição do RMSE à medida que o número de iterações aumenta. Concluímos então que permitir que o modelo treine para mais iterações geralmente leva a um melhor desempenho.\r\n",
    "\r\n",
    "Quanto ao early stopping, pode ser benéfico em situações em que o modelo começa a ter overfitting nos dados de treino. O overfitting ocorre quando o modelo se torna muito complexo e começa a ajustar nos dados de treino, levando a um desempenho insatisfatório em dados não vistos. O early stopping evita o overfitting, interrompendo o processo de treinamento quando o desempenho em um conjunto de dados de validação começa a diminuir. Isso garante que o modelo generalize bem para dados invisíveis.\r\n",
    "\r\n",
    "Porém, neste caso específico, a técnica de early stopping piora o desempenho. A razão para esta conclusão é que o RMSE diminui consistentemente à medida que o número de iterações aumenta, indicando que o modelo continua a melhorar com mais treino. Utilizar early stopping neste cenário pode impedir que o modelo atinja todo o seu potencial e resulta numa solução abaixo do ideal.\r\n"
   ]
  }
 ],
 "metadata": {
  "kernelspec": {
   "display_name": "Python 3 (ipykernel)",
   "language": "python",
   "name": "python3"
  },
  "language_info": {
   "codemirror_mode": {
    "name": "ipython",
    "version": 3
   },
   "file_extension": ".py",
   "mimetype": "text/x-python",
   "name": "python",
   "nbconvert_exporter": "python",
   "pygments_lexer": "ipython3",
   "version": "3.11.3"
  }
 },
 "nbformat": 4,
 "nbformat_minor": 5
}
